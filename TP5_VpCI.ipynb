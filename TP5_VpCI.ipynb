{
  "nbformat": 4,
  "nbformat_minor": 0,
  "metadata": {
    "colab": {
      "provenance": [],
      "collapsed_sections": []
    },
    "kernelspec": {
      "name": "python3",
      "display_name": "Python 3"
    },
    "language_info": {
      "name": "python"
    }
  },
  "cells": [
    {
      "cell_type": "code",
      "execution_count": null,
      "metadata": {
        "id": "GT7JQp1KfD1h"
      },
      "outputs": [],
      "source": [
        "import pandas as pd\n",
        "import numpy as np\n",
        "import time\n",
        "import torch\n",
        "import cv2 as cv\n",
        "import matplotlib.pyplot as plt"
      ]
    },
    {
      "cell_type": "code",
      "source": [
        "filename = r'C:\\Users\\Leandro\\Desktop\\Inteligencia Artificial\\3er Bimestre\\Computer Vision\\vtest.avi'"
      ],
      "metadata": {
        "id": "HcxZ6D1jfIDb"
      },
      "execution_count": null,
      "outputs": []
    },
    {
      "cell_type": "code",
      "source": [
        "def BG(file, n_frames, time_update, stats = False):\n",
        "\n",
        "    capture = cv.VideoCapture(file)\n",
        "    total_frames = capture.get(cv.CAP_PROP_FRAME_COUNT)\n",
        "    \n",
        "    S = time_update\n",
        "    N = n_frames\n",
        "    time_list = []\n",
        "    non_zero_list = []\n",
        "    \n",
        "    if not capture.isOpened:\n",
        "        print('Falla al abrir el archivo: ' + file)\n",
        "        exit(0)\n",
        "        \n",
        "    # Calculo la primera mediana\n",
        "    frameIds = 60 * np.random.uniform(size = N)\n",
        "    frame_list = []\n",
        "    for i in frameIds:\n",
        "        capture.set(1, i)\n",
        "        ret, frame_ = capture.read()\n",
        "        frame_list.append(frame_)\n",
        "\n",
        "    M = np.median(frame_list, axis = 0)     \n",
        "    \n",
        "    start = time.time()\n",
        "    \n",
        "    while True:\n",
        "        # Leemos un frame\n",
        "        ret, frame = capture.read()\n",
        "        if frame is None:\n",
        "            break\n",
        "        \n",
        "        start_frame = time.time()\n",
        "        # Número de frame actual\n",
        "        frame_number = int(capture.get(cv.CAP_PROP_POS_FRAMES))\n",
        "        \n",
        "        # Calculo la mediana\n",
        "        end = time.time()\n",
        "        t = end - start\n",
        "        if t > S:\n",
        "            frameIds = frame_number + np.random.uniform(-5 * S, 5 * S, size = N)\n",
        "            frameIds = np.maximum(np.minimum(frameIds, total_frames), 0).astype(int)\n",
        "            frame_list = []\n",
        "            for i in frameIds:\n",
        "                capture.set(1, i)\n",
        "                ret, frame_ = capture.read()\n",
        "                frame_list.append(frame_)\n",
        "        \n",
        "            M = np.median(frame_list, axis = 0)\n",
        "            capture.set(1, frame_number)\n",
        "            start = time.time()\n",
        "       \n",
        "        # Escribimos sobre la imagen el número de frame procesado\n",
        "        cv.rectangle(frame, (10, 2), (100,20), (255,255,255), -1)\n",
        "        cv.putText(frame, str(frame_number), (15, 15),\n",
        "                   cv.FONT_HERSHEY_SIMPLEX, 0.5 , (0,0,0))\n",
        "        cv.putText(frame, str(int(t)), (75, 15),\n",
        "                   cv.FONT_HERSHEY_SIMPLEX, 0.5 , (0,0,0))\n",
        "        \n",
        "        # Mostramos frame original e imagen binaria background/foreground\n",
        "        cv.imshow('Frame', frame)\n",
        "        #frame = cv.medianBlur(frame.astype('float32'), 5)\n",
        "        #M = cv.medianBlur(M.astype('float32'), 5)\n",
        "        #frame = cv.GaussianBlur(frame.astype('float32'), (5, 5), 1)\n",
        "        #M = cv.GaussianBlur(M.astype('float32'), (5, 5), 1)\n",
        "        gray_img = np.abs(frame.astype('float32') - M.astype('float32'))\n",
        "        gray_img = cv.medianBlur(gray_img, 3)\n",
        "        gray_img = cv.GaussianBlur(gray_img, (5, 5), 0.5)\n",
        "        gray_img = cv.cvtColor(gray_img, cv.COLOR_BGR2GRAY)\n",
        "        thresh, bg = cv.threshold(gray_img, 127, 255, cv.THRESH_BINARY)\n",
        "        #bg = cv.GaussianBlur(bg, (5, 5), 0.5)\n",
        "        cv.imshow('BG', bg)\n",
        "        end_frame = time.time()\n",
        "        time_between_frames = end_frame - start_frame\n",
        "        time_list.append(time_between_frames)\n",
        "        non_zero_list.append(np.count_nonzero(bg))\n",
        "        \n",
        "        # Corremos hasta que termine o apriete escape\n",
        "        keyboard = cv.waitKey(30)\n",
        "        if keyboard == 'q' or keyboard == 27:\n",
        "            break\n",
        "    \n",
        "    cv.destroyAllWindows()\n",
        "    capture.release()\n",
        "    \n",
        "    if stats == True:\n",
        "        return time_list, non_zero_list"
      ],
      "metadata": {
        "id": "PbXbuQZbfXFp"
      },
      "execution_count": null,
      "outputs": []
    },
    {
      "cell_type": "code",
      "source": [
        "BG(filename, 50, 40)"
      ],
      "metadata": {
        "id": "2I5Q35bGfYXb"
      },
      "execution_count": null,
      "outputs": []
    },
    {
      "cell_type": "code",
      "source": [
        "metodo = 'MOG2'\n",
        "#metodo = 'KNN'\n",
        "if metodo == 'MOG2':\n",
        "    backSub = cv.createBackgroundSubtractorMOG2()\n",
        "else:\n",
        "    backSub = cv.createBackgroundSubtractorKNN()\n",
        "    backSub = cv.createBackgroundSubtractorKNN(detectShadows = True)\n",
        "In [61]:\n",
        "# Abrimos el archivo\n",
        "#-------------------\n",
        "capture = cv.VideoCapture(filename)\n",
        "time_mog = []\n",
        "nonzero_mog = []\n",
        "\n",
        "if not capture.isOpened:\n",
        "    print('Falla al abrir el archivo: ' + filename)\n",
        "    exit(0)\n",
        "\n",
        "# Corremos la sustraccion\n",
        "#------------------------\n",
        "while True:\n",
        "    # Leemos un frame\n",
        "    ret, frame = capture.read()\n",
        "    if frame is None:\n",
        "        break\n",
        "    \n",
        "    # Aplicamos la sustracción al frame leído\n",
        "    #----------------------------------------\n",
        "    # Cada frame se utiliza tanto para calcular la máscara de primer plano como para actualizar el fondo.\n",
        "    # Si se desea cambiar la tasa de aprendizaje utilizada para actualizar el modelo de fondo, es posible\n",
        "    # establecer una tasa de aprendizaje específica pasando un parámetro al método apply.\n",
        "    start = time.time()\n",
        "    fgMask = backSub.apply(frame)\n",
        "    \n",
        "    # Escribimos sobre la imagen el número de frame procesado\n",
        "    cv.rectangle(frame, (10, 2), (100,20), (255,255,255), -1)\n",
        "    cv.putText(frame, str(capture.get(cv.CAP_PROP_POS_FRAMES)), (15, 15),\n",
        "               cv.FONT_HERSHEY_SIMPLEX, 0.5 , (0,0,0))\n",
        "    \n",
        "    # mostramos frame original e imagen binaria background/foreground\n",
        "    cv.imshow('Frame', frame)\n",
        "    cv.imshow('FG Mask', fgMask)\n",
        "    end = time.time()\n",
        "    t = end - start\n",
        "    time_mog.append(t)\n",
        "    nonzero_mog.append(np.count_nonzero(fgMask))\n",
        "    \n",
        "    # Corresmos hasta que termine o apriete escape\n",
        "    keyboard = cv.waitKey(30)\n",
        "    if keyboard == 'q' or keyboard == 27:\n",
        "        break\n",
        "\n",
        "cv.destroyAllWindows()\n",
        "capture.release()\n",
        "\n",
        "time_median, nonzero_median = BG(filename, 50, 40, stats = True)\n",
        "\n",
        "mean_time_median = np.mean(time_median)\n",
        "std_time_median = np.std(time_median)\n",
        "mean_time_mog = np.mean(time_mog)\n",
        "std_time_mog = np.std(time_mog)\n",
        "\n",
        "mean_nonzero_median = np.mean(nonzero_median)\n",
        "std_nonzero_median = np.std(nonzero_median)\n",
        "mean_nonzero_mog = np.mean(nonzero_mog)\n",
        "std_nonzero_mog = np.std(nonzero_mog)\n",
        "\n",
        "mediana = np.round([mean_time_median, std_time_median, mean_nonzero_median, std_nonzero_median], 4)\n",
        "mog = np.round([mean_time_mog, std_time_mog, mean_nonzero_mog, std_nonzero_mog], 4)\n",
        "\n",
        "rows = ['mean_time', 'std_time', 'mean_nonzero', 'std_nonzero']\n",
        "\n",
        "table = pd.DataFrame({'LABELS': rows, 'MEDIANA': mediana, 'MOG': mog})    \n",
        "\n",
        "table"
      ],
      "metadata": {
        "id": "AkpY9P9PfZkB"
      },
      "execution_count": null,
      "outputs": []
    },
    {
      "cell_type": "code",
      "source": [
        "print(1/(table['MOG'][0]/table['MEDIANA'][0]))\n",
        "print((table['MOG'][2]/table['MEDIANA'][2]))"
      ],
      "metadata": {
        "id": "Bgi1Twmbfpe5"
      },
      "execution_count": null,
      "outputs": []
    },
    {
      "cell_type": "code",
      "source": [
        "fig, axs = plt.subplots(2, 2, figsize = (20, 10))\n",
        "\n",
        "axs[0,0].hist(time_median, bins = 30)\n",
        "axs[0,0].set_title('Histograma de tiempo entre frames del método MEDIANA')\n",
        "axs[1,0].hist(nonzero_median, bins = 30)\n",
        "axs[1,0].set_title('Histograma de elementos no cero entre frames del método MEDIANA')\n",
        "axs[0,1].hist(time_mog, bins = 30)\n",
        "axs[0,1].set_title('Histograma de tiempo entre frames del método MOG')\n",
        "axs[1,1].hist(nonzero_mog, bins = 30)\n",
        "axs[1,1].set_title('Histograma de elementos no cero entre frames del método MOG')\n",
        "plt.show()"
      ],
      "metadata": {
        "id": "JRuh4-2tfq9o"
      },
      "execution_count": null,
      "outputs": []
    }
  ]
}